{
 "cells": [
  {
   "cell_type": "code",
   "execution_count": 1,
   "metadata": {},
   "outputs": [],
   "source": [
    "#importing all libraries\n",
    "import numpy as np\n",
    "import pandas as pd\n",
    "import matplotlib.pyplot as plt\n",
    "from matplotlib import rcParams\n",
    "from matplotlib.cm import rainbow\n",
    "from sklearn.metrics import roc_auc_score\n",
    "from sklearn.model_selection import GridSearchCV\n",
    "from sklearn.metrics import accuracy_score\n",
    "from sklearn.svm import SVC\n",
    "from sklearn.tree import DecisionTreeClassifier\n",
    "import warnings\n",
    "warnings.filterwarnings('ignore')\n",
    "# Machine Learning\n",
    "from sklearn.neighbors import KNeighborsClassifier\n",
    "from sklearn.svm import SVC\n",
    "from sklearn.tree import DecisionTreeClassifier\n",
    "from sklearn.ensemble import RandomForestClassifier"
   ]
  },
  {
   "cell_type": "code",
   "execution_count": 21,
   "metadata": {},
   "outputs": [
    {
     "name": "stdout",
     "output_type": "stream",
     "text": [
      "Class\n",
      "1    121\n",
      "2     95\n",
      "dtype: int64\n"
     ]
    }
   ],
   "source": [
    "dataset1=pd.read_csv(\"C:/Users/HP/Desktop/project/heart-10-1tra_80.csv\")\n",
    "print(dataset1.groupby('Class').size())\n"
   ]
  },
  {
   "cell_type": "code",
   "execution_count": 53,
   "metadata": {},
   "outputs": [],
   "source": [
    "#One Hot Encoding all the categorical variables\n",
    "dataset1 = pd.get_dummies(dataset1, columns = ['ChestPainType', 'ResElectrocardiographic','Slope', 'MajorVessels', 'Thal' ,'Class'])\n",
    "list_drop1 = ['ChestPainType_4','Slope_3','MajorVessels_3','Thal_7','ResElectrocardiographic_1', 'Class_2' ]\n",
    "dataset1.drop(list_drop1, axis=1, inplace=True)\n",
    "X_train=dataset1.iloc[:,0:20].values\n",
    "y_train=dataset1.iloc[:,20:21].values"
   ]
  },
  {
   "cell_type": "code",
   "execution_count": 47,
   "metadata": {},
   "outputs": [
    {
     "name": "stdout",
     "output_type": "stream",
     "text": [
      "Class\n",
      "1    14\n",
      "2    13\n",
      "dtype: int64\n",
      "<class 'pandas.core.frame.DataFrame'>\n",
      "RangeIndex: 27 entries, 0 to 26\n",
      "Data columns (total 14 columns):\n",
      "Age                        27 non-null int64\n",
      "Sex                        27 non-null int64\n",
      "ChestPainType              27 non-null int64\n",
      "RestBloodPressure          27 non-null int64\n",
      "SerumCholestoral           27 non-null int64\n",
      "FastingBloodSugar          27 non-null int64\n",
      "ResElectrocardiographic    27 non-null int64\n",
      "MaxHeartRate               27 non-null int64\n",
      "ExerciseInduced            27 non-null int64\n",
      "Oldpeak                    27 non-null int64\n",
      "Slope                      27 non-null int64\n",
      "MajorVessels               27 non-null int64\n",
      "Thal                       27 non-null int64\n",
      "Class                      27 non-null int64\n",
      "dtypes: int64(14)\n",
      "memory usage: 3.0 KB\n",
      "None\n"
     ]
    }
   ],
   "source": [
    " #getting the testing dataset\n",
    "dataset2=pd.read_csv(\"C:/Users/HP/Desktop/pseudo_label_80_labelled.csv\")\n",
    "print(dataset2.groupby('Class').size())\n",
    "print(dataset2.info())\n"
   ]
  },
  {
   "cell_type": "code",
   "execution_count": 50,
   "metadata": {},
   "outputs": [],
   "source": [
    "dataset2 = pd.get_dummies(dataset2, columns = ['ChestPainType', 'ResElectrocardiographic','Slope', 'MajorVessels', 'Thal','Class' ])"
   ]
  },
  {
   "cell_type": "code",
   "execution_count": 51,
   "metadata": {},
   "outputs": [],
   "source": [
    "list_drop2 = ['ChestPainType_4','Slope_3','MajorVessels_3','Thal_7', 'Class_2' ]\n",
    "dataset2.drop(list_drop2, axis=1, inplace=True)\n",
    "X_test=dataset2.iloc[:,0:20].values\n",
    "y_test=dataset2.iloc[:,20:21].values"
   ]
  },
  {
   "cell_type": "code",
   "execution_count": 55,
   "metadata": {},
   "outputs": [],
   "source": [
    "from sklearn.preprocessing import StandardScaler as ss\n",
    "sc = ss()\n",
    "X_train = sc.fit_transform(X_train)\n",
    "X_test = sc.transform(X_test)"
   ]
  },
  {
   "cell_type": "code",
   "execution_count": 56,
   "metadata": {},
   "outputs": [
    {
     "name": "stdout",
     "output_type": "stream",
     "text": [
      "0.8518518518518519\n"
     ]
    }
   ],
   "source": [
    "from sklearn.naive_bayes import GaussianNB\n",
    "classifier5 = GaussianNB()\n",
    "classifier5.fit(X_train, y_train)\n",
    "# Predicting the Test set results\n",
    "y_pred5 = classifier5.predict(X_test)\n",
    "print(accuracy_score(y_test, y_pred5))"
   ]
  },
  {
   "cell_type": "code",
   "execution_count": 57,
   "metadata": {},
   "outputs": [
    {
     "name": "stdout",
     "output_type": "stream",
     "text": [
      "[1 1 0 1 0 1 0 1 0 0 1 1 1 0 1 1 0 1 1 0 1 1 1 1 1 1 0]\n"
     ]
    }
   ],
   "source": [
    "print(y_pred5)"
   ]
  },
  {
   "cell_type": "code",
   "execution_count": 71,
   "metadata": {},
   "outputs": [
    {
     "name": "stdout",
     "output_type": "stream",
     "text": [
      "Class\n",
      "1    139\n",
      "2    104\n",
      "dtype: int64\n"
     ]
    }
   ],
   "source": [
    "dataset3=pd.read_csv(\"C:/Users/HP/Desktop/pseudo_labelled_training.csv\")\n",
    "print(dataset3.groupby('Class').size())"
   ]
  },
  {
   "cell_type": "code",
   "execution_count": 59,
   "metadata": {},
   "outputs": [
    {
     "name": "stdout",
     "output_type": "stream",
     "text": [
      "Class\n",
      "1    15\n",
      "2    12\n",
      "dtype: int64\n"
     ]
    }
   ],
   "source": [
    "dataset4=pd.read_csv(\"C:/Users/HP/Desktop/final_test_80.csv\")\n",
    "print(dataset4.groupby('Class').size())"
   ]
  },
  {
   "cell_type": "code",
   "execution_count": 72,
   "metadata": {},
   "outputs": [],
   "source": [
    "dataset3 = pd.get_dummies(dataset3, columns = ['ChestPainType', 'ResElectrocardiographic','Slope', 'MajorVessels', 'Thal' ,'Class'])\n"
   ]
  },
  {
   "cell_type": "code",
   "execution_count": 73,
   "metadata": {},
   "outputs": [],
   "source": [
    "list_drop3 = ['ChestPainType_4','Slope_3','MajorVessels_3','Thal_7','ResElectrocardiographic_1', 'Class_2' ]\n",
    "dataset3.drop(list_drop3, axis=1, inplace=True)\n",
    "X_train1=dataset3.iloc[:,0:20].values\n",
    "y_train1=dataset3.iloc[:,20:21].values"
   ]
  },
  {
   "cell_type": "code",
   "execution_count": 74,
   "metadata": {},
   "outputs": [],
   "source": [
    "dataset4 = pd.get_dummies(dataset4, columns = ['ChestPainType', 'ResElectrocardiographic','Slope', 'MajorVessels', 'Thal' ,'Class'])\n"
   ]
  },
  {
   "cell_type": "code",
   "execution_count": 75,
   "metadata": {},
   "outputs": [],
   "source": [
    "list_drop4 = ['ChestPainType_4','Slope_3','Thal_7', 'Class_2' ]\n",
    "dataset4.drop(list_drop4, axis=1, inplace=True)\n",
    "X_test1=dataset4.iloc[:,0:20].values\n",
    "y_test1=dataset4.iloc[:,20:21].values"
   ]
  },
  {
   "cell_type": "code",
   "execution_count": 76,
   "metadata": {},
   "outputs": [],
   "source": [
    "from sklearn.preprocessing import StandardScaler as ss\n",
    "sc = ss()\n",
    "X_train1 = sc.fit_transform(X_train1)\n",
    "X_test1 = sc.transform(X_test1)"
   ]
  },
  {
   "cell_type": "code",
   "execution_count": 77,
   "metadata": {},
   "outputs": [
    {
     "name": "stdout",
     "output_type": "stream",
     "text": [
      "0.7777777777777778\n"
     ]
    }
   ],
   "source": [
    "from sklearn.naive_bayes import GaussianNB\n",
    "classifier6 = GaussianNB()\n",
    "classifier6.fit(X_train1, y_train1)\n",
    "# Predicting the Test set results\n",
    "y_pred6 = classifier6.predict(X_test1)\n",
    "print(accuracy_score(y_test1, y_pred6))"
   ]
  },
  {
   "cell_type": "code",
   "execution_count": null,
   "metadata": {},
   "outputs": [],
   "source": []
  }
 ],
 "metadata": {
  "kernelspec": {
   "display_name": "Python 3",
   "language": "python",
   "name": "python3"
  },
  "language_info": {
   "codemirror_mode": {
    "name": "ipython",
    "version": 3
   },
   "file_extension": ".py",
   "mimetype": "text/x-python",
   "name": "python",
   "nbconvert_exporter": "python",
   "pygments_lexer": "ipython3",
   "version": "3.7.3"
  }
 },
 "nbformat": 4,
 "nbformat_minor": 2
}
