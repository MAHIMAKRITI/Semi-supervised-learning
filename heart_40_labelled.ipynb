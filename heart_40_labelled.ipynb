{
 "cells": [
  {
   "cell_type": "code",
   "execution_count": 1,
   "metadata": {},
   "outputs": [],
   "source": [
    "#importing all libraries\n",
    "import numpy as np\n",
    "import pandas as pd\n",
    "import matplotlib.pyplot as plt\n",
    "from matplotlib import rcParams\n",
    "from matplotlib.cm import rainbow\n",
    "from sklearn.metrics import roc_auc_score\n",
    "from sklearn.model_selection import GridSearchCV\n",
    "from sklearn.metrics import accuracy_score\n",
    "from sklearn.svm import SVC\n",
    "from sklearn.tree import DecisionTreeClassifier\n",
    "import warnings\n",
    "warnings.filterwarnings('ignore')\n",
    "# Machine Learning\n",
    "from sklearn.neighbors import KNeighborsClassifier\n",
    "from sklearn.svm import SVC\n",
    "from sklearn.tree import DecisionTreeClassifier\n",
    "from sklearn.ensemble import RandomForestClassifier"
   ]
  },
  {
   "cell_type": "code",
   "execution_count": 27,
   "metadata": {},
   "outputs": [],
   "source": [
    "dataset1=pd.read_csv(\"C:/Users/HP/Desktop/project/psedo_label_40.csv\")"
   ]
  },
  {
   "cell_type": "code",
   "execution_count": 28,
   "metadata": {},
   "outputs": [],
   "source": [
    "dataset1 = pd.get_dummies(dataset1, columns = ['ChestPainType', 'ResElectrocardiographic','Slope', 'MajorVessels', 'Thal' ,'Class'])\n",
    "list_drop1 = ['ChestPainType_4','Slope_3','MajorVessels_3','Thal_7', 'Class_2' ,'ResElectrocardiographic_1' ]\n",
    "dataset1.drop(list_drop1, axis=1, inplace=True)\n",
    "X_train=dataset1.iloc[:,0:20].values\n",
    "y_train=dataset1.iloc[:,20:21].values"
   ]
  },
  {
   "cell_type": "code",
   "execution_count": 29,
   "metadata": {},
   "outputs": [],
   "source": [
    "dataset2=pd.read_csv(\"C:/Users/HP/Desktop/project/heart_40_train.csv\")\n",
    "dataset2 = pd.get_dummies(dataset2, columns = ['ChestPainType', 'ResElectrocardiographic','Slope', 'MajorVessels', 'Thal' ,'Class'])\n",
    "list_drop2 = ['ChestPainType_4','Slope_3','MajorVessels_3','Thal_7', 'Class_2' ]\n",
    "dataset2.drop(list_drop2, axis=1, inplace=True)\n",
    "X_test=dataset2.iloc[:,0:20].values\n",
    "y_test=dataset2.iloc[:,20:21].values\n"
   ]
  },
  {
   "cell_type": "code",
   "execution_count": 36,
   "metadata": {},
   "outputs": [],
   "source": [
    "from sklearn.preprocessing import StandardScaler as ss\n",
    "sc = ss()\n",
    "X_train = sc.fit_transform(X_train)\n",
    "X_test = sc.transform(X_test)"
   ]
  },
  {
   "cell_type": "code",
   "execution_count": 40,
   "metadata": {},
   "outputs": [
    {
     "name": "stdout",
     "output_type": "stream",
     "text": [
      "0.6620689655172414\n",
      "[1 1 0 1 1 0 0 1 0 1 1 0 0 1 0 1 1 0 0 0 0 0 0 0 0 1 0 0 0 1 0 0 0 1 0 0 0\n",
      " 0 0 0 0 0 1 0 0 1 0 0 0 0 0 0 0 0 0 0 0 0 0 0 0 0 0 0 0 0 0 0 1 0 0 0 1 0\n",
      " 0 1 0 0 0 0 0 0 0 0 0 0 1 1 0 0 0 0 0 0 0 0 0 0 1 0 0 0 0 0 0 0 1 0 0 0 0\n",
      " 0 0 0 0 1 0 0 1 0 0 0 1 0 0 0 0 1 0 0 0 0 0 0 0 0 0 1 1 0 0 0 0 0 0]\n"
     ]
    }
   ],
   "source": [
    "from sklearn.naive_bayes import GaussianNB\n",
    "classifier1 = GaussianNB()\n",
    "classifier1.fit(X_train, y_train)\n",
    "# Predicting the Test set results\n",
    "y_pred1 = classifier1.predict(X_test)\n",
    "print(accuracy_score(y_test, y_pred1))\n",
    "print(y_pred1)\n"
   ]
  },
  {
   "cell_type": "code",
   "execution_count": 41,
   "metadata": {},
   "outputs": [],
   "source": [
    "for i in range(0,145):\n",
    "    if y_pred1[i]==0:\n",
    "        y_pred1[i]=2\n",
    "        "
   ]
  },
  {
   "cell_type": "code",
   "execution_count": 42,
   "metadata": {},
   "outputs": [],
   "source": [
    "dataset3=pd.read_csv(\"C:/Users/HP/Desktop/project/final_train.csv\")\n",
    "dataset3 = pd.get_dummies(dataset3, columns = ['ChestPainType', 'ResElectrocardiographic','Slope', 'MajorVessels', 'Thal' ,'Class'])\n",
    "list_drop3 = ['ChestPainType_4','Slope_3','MajorVessels_3','Thal_6', 'Class_2' ,'ResElectrocardiographic_1' ]\n",
    "dataset3.drop(list_drop3, axis=1, inplace=True)\n",
    "X_train2=dataset3.iloc[:,0:20].values\n",
    "y_train2=dataset3.iloc[:,20:21].values"
   ]
  },
  {
   "cell_type": "code",
   "execution_count": 43,
   "metadata": {},
   "outputs": [],
   "source": [
    "dataset4=pd.read_csv(\"C:/Users/HP/Desktop/project/test-40.csv\")\n",
    "dataset4['Thal_6'] = [0,0,0,0,0,0,0,0,0,0,0,0,0,0,0,0,0,0,0,0,0,0,0,0,0,0,0]\n",
    "dataset4 = pd.get_dummies(dataset4, columns = ['ChestPainType', 'ResElectrocardiographic','Slope', 'MajorVessels', 'Thal' ,'Class'])\n",
    "list_drop4 = ['ChestPainType_4','Slope_3','Thal_6', 'Class_2' ,'ResElectrocardiographic_1' ]\n",
    "dataset4.drop(list_drop4, axis=1, inplace=True)\n",
    "X_test2=dataset4.iloc[:,0:20].values\n",
    "y_test2=dataset4.iloc[:,20:21].values"
   ]
  },
  {
   "cell_type": "code",
   "execution_count": 44,
   "metadata": {},
   "outputs": [],
   "source": [
    "from sklearn.preprocessing import StandardScaler as ss\n",
    "sc = ss()\n",
    "X_train2 = sc.fit_transform(X_train2)\n",
    "X_test2 = sc.transform(X_test2)\n"
   ]
  },
  {
   "cell_type": "code",
   "execution_count": 45,
   "metadata": {},
   "outputs": [
    {
     "name": "stdout",
     "output_type": "stream",
     "text": [
      "0.5185185185185185\n",
      "[1 0 0 0 0 0 0 0 0 0 0 0 0 0 0 0 1 0 0 0 0 0 0 0 0 0 0]\n"
     ]
    }
   ],
   "source": [
    "from sklearn.naive_bayes import GaussianNB\n",
    "classifier2 = GaussianNB()\n",
    "classifier2.fit(X_train2, y_train2)\n",
    "# Predicting the Test set results\n",
    "y_pred2 = classifier2.predict(X_test2)\n",
    "print(accuracy_score(y_test2, y_pred2))\n",
    "print(y_pred2)"
   ]
  },
  {
   "cell_type": "code",
   "execution_count": null,
   "metadata": {},
   "outputs": [],
   "source": []
  }
 ],
 "metadata": {
  "kernelspec": {
   "display_name": "Python 3",
   "language": "python",
   "name": "python3"
  },
  "language_info": {
   "codemirror_mode": {
    "name": "ipython",
    "version": 3
   },
   "file_extension": ".py",
   "mimetype": "text/x-python",
   "name": "python",
   "nbconvert_exporter": "python",
   "pygments_lexer": "ipython3",
   "version": "3.7.3"
  }
 },
 "nbformat": 4,
 "nbformat_minor": 2
}
